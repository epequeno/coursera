{
 "cells": [
  {
   "cell_type": "markdown",
   "metadata": {},
   "source": [
    "#Programming Assignment 1\n",
    "https://class.coursera.org/crypto-014/quiz/attempt?quiz_id=18\n",
    "\n",
    "My attempt at solving this problem is not yielding the results I expect. I suspect that the way you $\\oplus$ your strings together makes the difference although the assignment says that his implimentation of how the CTs were created shouldn't matter. \n",
    "\n",
    "To demonstrate, here is how I approched $\\oplus$ing the strings together: "
   ]
  },
  {
   "cell_type": "code",
   "execution_count": 1,
   "metadata": {
    "collapsed": false
   },
   "outputs": [
    {
     "name": "stdout",
     "output_type": "stream",
     "text": [
      "m1: 48656c6c6f20576f726c64\n",
      "key: 7375706572736563726574\n",
      "22 22\n"
     ]
    }
   ],
   "source": [
    "m1 = \"Hello World\".encode('hex')\n",
    "key = \"supersecret\".encode('hex')\n",
    "print 'm1: {}\\nkey: {}'.format(m1, key)\n",
    "print len(m1), len(key)"
   ]
  },
  {
   "cell_type": "markdown",
   "metadata": {},
   "source": [
    "Note that these values match up with the values seen here: http://travisdazell.blogspot.com/2012/11/many-time-pad-attack-crib-drag.html \n",
    "\n",
    "Now, I can create a ciphertext by $c = m_{1} \\oplus k$, again matching the reference material."
   ]
  },
  {
   "cell_type": "code",
   "execution_count": 2,
   "metadata": {
    "collapsed": false
   },
   "outputs": [
    {
     "data": {
      "text/plain": [
       "'3b101c091d53320c000910'"
      ]
     },
     "execution_count": 2,
     "metadata": {},
     "output_type": "execute_result"
    }
   ],
   "source": [
    "c = hex(int(m1, 16) ^ int(key, 16))[2:-1]\n",
    "c"
   ]
  },
  {
   "cell_type": "markdown",
   "metadata": {},
   "source": [
    "From here, I can then decrypt $c$ by $c \\oplus k = m_{1}$"
   ]
  },
  {
   "cell_type": "code",
   "execution_count": 3,
   "metadata": {
    "collapsed": false
   },
   "outputs": [
    {
     "data": {
      "text/plain": [
       "'Hello World'"
      ]
     },
     "execution_count": 3,
     "metadata": {},
     "output_type": "execute_result"
    }
   ],
   "source": [
    "pt = hex(int(c, 16) ^ int(key, 16))[2:-1].decode('hex')\n",
    "pt"
   ]
  },
  {
   "cell_type": "markdown",
   "metadata": {},
   "source": [
    "So, $\\oplus$ing this way behaves as a typical OTP should. So with that in mind let's try the crib drag against the assignments CTs:"
   ]
  },
  {
   "cell_type": "code",
   "execution_count": 4,
   "metadata": {
    "collapsed": true
   },
   "outputs": [],
   "source": [
    "ct1 = '315c4eeaa8b5f8aaf9174145bf43e1784b8fa00dc71d885a804e5ee9fa40b16349c146fb778cdf2d3aff021dfff5b403b510d0d0455468aeb98622b137dae857553ccd8883a7bc37520e06e515d22c954eba5025b8cc57ee59418ce7dc6bc41556bdb36bbca3e8774301fbcaa3b83b220809560987815f65286764703de0f3d524400a19b159610b11ef3e'\n",
    "ct2 = '234c02ecbbfbafa3ed18510abd11fa724fcda2018a1a8342cf064bbde548b12b07df44ba7191d9606ef4081ffde5ad46a5069d9f7f543bedb9c861bf29c7e205132eda9382b0bc2c5c4b45f919cf3a9f1cb74151f6d551f4480c82b2cb24cc5b028aa76eb7b4ab24171ab3cdadb8356f'\n",
    "ct3 = '32510ba9a7b2bba9b8005d43a304b5714cc0bb0c8a34884dd91304b8ad40b62b07df44ba6e9d8a2368e51d04e0e7b207b70b9b8261112bacb6c866a232dfe257527dc29398f5f3251a0d47e503c66e935de81230b59b7afb5f41afa8d661cb'\n",
    "ct4 = '32510ba9aab2a8a4fd06414fb517b5605cc0aa0dc91a8908c2064ba8ad5ea06a029056f47a8ad3306ef5021eafe1ac01a81197847a5c68a1b78769a37bc8f4575432c198ccb4ef63590256e305cd3a9544ee4160ead45aef520489e7da7d835402bca670bda8eb775200b8dabbba246b130f040d8ec6447e2c767f3d30ed81ea2e4c1404e1315a1010e7229be6636aaa'\n",
    "ct5 = '3f561ba9adb4b6ebec54424ba317b564418fac0dd35f8c08d31a1fe9e24fe56808c213f17c81d9607cee021dafe1e001b21ade877a5e68bea88d61b93ac5ee0d562e8e9582f5ef375f0a4ae20ed86e935de81230b59b73fb4302cd95d770c65b40aaa065f2a5e33a5a0bb5dcaba43722130f042f8ec85b7c2070'\n",
    "ct6 = '32510bfbacfbb9befd54415da243e1695ecabd58c519cd4bd2061bbde24eb76a19d84aba34d8de287be84d07e7e9a30ee714979c7e1123a8bd9822a33ecaf512472e8e8f8db3f9635c1949e640c621854eba0d79eccf52ff111284b4cc61d11902aebc66f2b2e436434eacc0aba938220b084800c2ca4e693522643573b2c4ce35050b0cf774201f0fe52ac9f26d71b6cf61a711cc229f77ace7aa88a2f19983122b11be87a59c355d25f8e4'\n",
    "ct7 = '32510bfbacfbb9befd54415da243e1695ecabd58c519cd4bd90f1fa6ea5ba47b01c909ba7696cf606ef40c04afe1ac0aa8148dd066592ded9f8774b529c7ea125d298e8883f5e9305f4b44f915cb2bd05af51373fd9b4af511039fa2d96f83414aaaf261bda2e97b170fb5cce2a53e675c154c0d9681596934777e2275b381ce2e40582afe67650b13e72287ff2270abcf73bb028932836fbdecfecee0a3b894473c1bbeb6b4913a536ce4f9b13f1efff71ea313c8661dd9a4ce'\n",
    "ct8 = '315c4eeaa8b5f8bffd11155ea506b56041c6a00c8a08854dd21a4bbde54ce56801d943ba708b8a3574f40c00fff9e00fa1439fd0654327a3bfc860b92f89ee04132ecb9298f5fd2d5e4b45e40ecc3b9d59e9417df7c95bba410e9aa2ca24c5474da2f276baa3ac325918b2daada43d6712150441c2e04f6565517f317da9d3'\n",
    "ct9 = '271946f9bbb2aeadec111841a81abc300ecaa01bd8069d5cc91005e9fe4aad6e04d513e96d99de2569bc5e50eeeca709b50a8a987f4264edb6896fb537d0a716132ddc938fb0f836480e06ed0fcd6e9759f40462f9cf57f4564186a2c1778f1543efa270bda5e933421cbe88a4a52222190f471e9bd15f652b653b7071aec59a2705081ffe72651d08f822c9ed6d76e48b63ab15d0208573a7eef027'\n",
    "ct10 = '466d06ece998b7a2fb1d464fed2ced7641ddaa3cc31c9941cf110abbf409ed39598005b3399ccfafb61d0315fca0a314be138a9f32503bedac8067f03adbf3575c3b8edc9ba7f537530541ab0f9f3cd04ff50d66f1d559ba520e89a2cb2a83'\n",
    "target = '32510ba9babebbbefd001547a810e67149caee11d945cd7fc81a05e9f85aac650e9052ba6a8cd8257bf14d13e6f0a803b54fde9e77472dbff89d71b57bddef121336cb85ccb8f3315f4b52e301d16e9f52f904'"
   ]
  },
  {
   "cell_type": "code",
   "execution_count": null,
   "metadata": {
    "collapsed": false
   },
   "outputs": [],
   "source": [
    "import string\n",
    "from binascii import unhexlify\n",
    "\n",
    "# crib = 'the secret message is: When using a stream cipher, never use the key more than once '\n",
    "# crib = 'we can factor the number 15 with quantum computers. We can also factor the number 1'\n",
    "# crib = 'euler would probably enjoy that now his theorem becomes a corner stone of crypto - '\n",
    "# crib = 'the nice thing about Keeyloq is now we cryptographers can drive a lot of fancy cars '\n",
    "crib = 'the ciphertext produced by a weak encryption algorithm looks as good as ciphertext produced'\n",
    "# crib = \"you don't want to buy a set of car keys from a guy who specializes in stealing cars \"\n",
    "# crib = 'there are two types of cryptography - that which will keep secrets safe from your l'\n",
    "# crib = 'there are two types of cryptography: one that allows the Government to use brute '\n",
    "# crib = 'we can see the point where the chip is unhappy if a wrong bit is sent and consumes '\n",
    "# crib = 'a (private-key)  encryption scheme states 3 algorithms, namely a procedure for generating '\n",
    "# crib = 'The Concise OxfordDictionary (2006) deﬁnes crypto as the art of writing'\n",
    "\n",
    "\n",
    "\n",
    "def strxor(a, b):\n",
    "    if len(a) > len(b):\n",
    "        return \"\".join([chr(ord(x) ^ ord(y)) for (x, y) in zip(a[:len(b)], b)])\n",
    "    else:\n",
    "        return \"\".join([chr(ord(x) ^ ord(y)) for (x, y) in zip(a, b[:len(a)])])\n",
    "\n",
    "def crib_drag(crib, cx, cy):\n",
    "    ct = strxor(unhexlify(cx), unhexlify(cy))\n",
    "    return strxor(crib, ct)\n",
    "\n",
    "variables = string.lowercase + string.uppercase + string.punctuation + string.whitespace\n",
    "cts = [ct1, ct2, ct3, ct4, ct5, ct6, ct7, ct8, ct9, ct10]\n",
    "\n",
    "for ct in cts:\n",
    "    for i in variables:\n",
    "        result = crib_drag(crib + i, ct, target)\n",
    "        print i, result"
   ]
  },
  {
   "cell_type": "markdown",
   "metadata": {},
   "source": [
    "Let's look at the differences in the approaches:"
   ]
  },
  {
   "cell_type": "code",
   "execution_count": 369,
   "metadata": {
    "collapsed": false
   },
   "outputs": [
    {
     "name": "stdout",
     "output_type": "stream",
     "text": [
      "61\n",
      "97\n",
      "65\n",
      "A\n"
     ]
    }
   ],
   "source": [
    "print 'a'.encode('hex')\n",
    "print int('a'.encode('hex'), 16)\n",
    "print int('a'.encode('hex'), 16) ^ int(' '.encode('hex'), 16)\n",
    "print chr(int('a'.encode('hex'), 16) ^ int(' '.encode('hex'), 16))"
   ]
  },
  {
   "cell_type": "code",
   "execution_count": 367,
   "metadata": {
    "collapsed": false
   },
   "outputs": [
    {
     "name": "stdout",
     "output_type": "stream",
     "text": [
      "97\n",
      "65\n",
      "A\n"
     ]
    }
   ],
   "source": [
    "print ord('a') \n",
    "print ord('a') ^ ord(' ')\n",
    "print chr(ord('a') ^ ord(' '))"
   ]
  },
  {
   "cell_type": "code",
   "execution_count": null,
   "metadata": {
    "collapsed": true
   },
   "outputs": [],
   "source": []
  }
 ],
 "metadata": {
  "kernelspec": {
   "display_name": "Python 2",
   "language": "python",
   "name": "python2"
  },
  "language_info": {
   "codemirror_mode": {
    "name": "ipython",
    "version": 2
   },
   "file_extension": ".py",
   "mimetype": "text/x-python",
   "name": "python",
   "nbconvert_exporter": "python",
   "pygments_lexer": "ipython2",
   "version": "2.7.9"
  }
 },
 "nbformat": 4,
 "nbformat_minor": 0
}
