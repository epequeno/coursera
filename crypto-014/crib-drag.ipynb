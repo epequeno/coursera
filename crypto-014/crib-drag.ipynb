{
 "cells": [
  {
   "cell_type": "markdown",
   "metadata": {},
   "source": [
    "# Crib dragging\n",
    "\n",
    "following http://travisdazell.blogspot.com/2012/11/many-time-pad-attack-crib-drag.html"
   ]
  },
  {
   "cell_type": "code",
   "execution_count": 5,
   "metadata": {
    "collapsed": false
   },
   "outputs": [
    {
     "name": "stdout",
     "output_type": "stream",
     "text": [
      "m1: 68656c6c6f20776f726c642121\n",
      "m2: 6f74686572206d657373616765\n",
      "key: 7365637265746b657931323321\n",
      "26 26 26\n"
     ]
    }
   ],
   "source": [
    "m1 = \"hello world!!\".encode('hex')\n",
    "m2 = \"other message\".encode('hex')\n",
    "key = \"secretkey123!\".encode('hex')\n",
    "print 'm1: {}\\nm2: {}\\nkey: {}'.format(m1, m2, key)\n",
    "print len(m1), len(m2), len(key)"
   ]
  },
  {
   "cell_type": "code",
   "execution_count": 2,
   "metadata": {
    "collapsed": false
   },
   "outputs": [
    {
     "name": "stdout",
     "output_type": "stream",
     "text": [
      "ct1: 1b000f1e0a541c0a0b5d561200\n",
      "ct2: 1c110b17175406000a42535444\n"
     ]
    }
   ],
   "source": [
    "ct1 = hex(int(m1, 16) ^ int(key, 16))[2:-1]\n",
    "ct2 = hex(int(m2, 16) ^ int(key, 16))[2:-1]\n",
    "print 'ct1: {}\\nct2: {}'.format(ct1, ct2)"
   ]
  },
  {
   "cell_type": "code",
   "execution_count": 3,
   "metadata": {
    "collapsed": false
   },
   "outputs": [
    {
     "name": "stdout",
     "output_type": "stream",
     "text": [
      "ctx: 71104091d001a0a011f054644\n"
     ]
    }
   ],
   "source": [
    "ctx = hex(int(ct1, 16) ^ int(ct2, 16))[2:-1]\n",
    "print 'ctx: {}'.format(ctx)"
   ]
  },
  {
   "cell_type": "markdown",
   "metadata": {},
   "source": [
    "To demonstrate the OTP, we can decrypt the CTs by XOR'ing with the key (k): $ c_{n} \\oplus k = m_{n} $"
   ]
  },
  {
   "cell_type": "code",
   "execution_count": 4,
   "metadata": {
    "collapsed": false
   },
   "outputs": [
    {
     "name": "stdout",
     "output_type": "stream",
     "text": [
      "hello world!!\n",
      "other message\n"
     ]
    }
   ],
   "source": [
    "print hex(int(ct1, 16) ^ int(key, 16))[2:-1].decode('hex')\n",
    "print hex(int(ct2, 16) ^ int(key, 16))[2:-1].decode('hex')"
   ]
  },
  {
   "cell_type": "code",
   "execution_count": 6,
   "metadata": {
    "collapsed": false
   },
   "outputs": [
    {
     "name": "stdout",
     "output_type": "stream",
     "text": [
      "crib in hex: 20\n",
      "crib width: 2\n",
      "------------\n",
      "0:2\t20 XOR 71 Q\n",
      "20:22\t20 XOR 54 t\n",
      "21:23\t20 XOR 46 f\n",
      "22:24\t20 XOR 64 D\n",
      "23:25\t20 XOR 44 d\n"
     ]
    }
   ],
   "source": [
    "import string\n",
    "space = ' '.encode('hex')\n",
    "\n",
    "def attack(crib, ctx):\n",
    "    width = len(crib)\n",
    "    print 'crib in hex: {}\\ncrib width: {}\\n------------'.format(crib, width)\n",
    "    for i in range(0, len(ctx)):\n",
    "        decoded = hex(int(crib, 16) ^ int(ctx[i:i+width], 16))[2:].decode('hex')\n",
    "        if decoded.isalpha():\n",
    "            print \"{}:{}\\t\".format(i, i+width), '{} XOR {}'.format(crib, ctx[i:i+width]), decoded\n",
    "            \n",
    "attack(space, ctx)"
   ]
  },
  {
   "cell_type": "markdown",
   "metadata": {},
   "source": [
    "The assignment asks us to examine what happens when we a space character ' ' with uppercase or lowercase letters:"
   ]
  },
  {
   "cell_type": "code",
   "execution_count": 6,
   "metadata": {
    "collapsed": false
   },
   "outputs": [
    {
     "name": "stdout",
     "output_type": "stream",
     "text": [
      "a\n",
      "b\n",
      "c\n",
      "d\n",
      "e\n",
      "f\n",
      "g\n",
      "h\n",
      "i\n",
      "j\n"
     ]
    }
   ],
   "source": [
    "for i in string.uppercase[:10]:\n",
    "    print hex(int(' '.encode('hex'), 16) ^ int(i.encode('hex'), 16))[2:].decode('hex')"
   ]
  },
  {
   "cell_type": "markdown",
   "metadata": {},
   "source": [
    "So, if we XOR a space with a letter we'll get it's opposite case. Thus far we have several candidates, if we didn't know anything about the PTs we'd have to expand our search with each candidate. For brevity's sake I'll expand the search with knowledge of the PT.\n",
    "\n",
    "We know that all the letters in the PTs are lowercase so and that there are no 'q', 't', or 'f' characters so that narrows it down to 20 XOR 64 which produces 'D'"
   ]
  },
  {
   "cell_type": "code",
   "execution_count": 7,
   "metadata": {
    "collapsed": false
   },
   "outputs": [
    {
     "name": "stdout",
     "output_type": "stream",
     "text": [
      "crib in hex: 20\n",
      "crib width: 2\n",
      "------------\n",
      "0:2\t20 XOR 71 Q\n",
      "20:22\t20 XOR 54 t\n",
      "21:23\t20 XOR 46 f\n",
      "22:24\t20 XOR 64 D\n",
      "23:25\t20 XOR 44 d\n"
     ]
    }
   ],
   "source": [
    "crib = ' '.encode('hex')\n",
    "attack(crib, ctx)"
   ]
  },
  {
   "cell_type": "markdown",
   "metadata": {},
   "source": [
    "In this demonstration I'll proceed with knowledge of the PT to expand the crib. Note that by XOR'ing with the crib we get the plaintext of the second message:"
   ]
  },
  {
   "cell_type": "code",
   "execution_count": 12,
   "metadata": {
    "collapsed": false
   },
   "outputs": [
    {
     "name": "stdout",
     "output_type": "stream",
     "text": [
      "crib in hex: 576f726c642121\n",
      "crib width: 14\n",
      "------------\n",
      "11:25\t576f726c642121 XOR 1a0a011f054644 Message\n",
      "13:27\t576f726c642121 XOR 0a011f054644 Wessage\n",
      "14:28\t576f726c642121 XOR a011f054644 Wessage\n",
      "15:29\t576f726c642121 XOR 011f054644 Wossage\n",
      "16:30\t576f726c642121 XOR 11f054644 Wossage\n",
      "17:31\t576f726c642121 XOR 1f054644 Worsage\n",
      "18:32\t576f726c642121 XOR f054644 Worcage\n",
      "19:33\t576f726c642121 XOR 054644 Worlage\n",
      "20:34\t576f726c642121 XOR 54644 Worlage\n",
      "21:35\t576f726c642121 XOR 4644 Worldge\n"
     ]
    }
   ],
   "source": [
    "crib = 'World!!'.encode('hex')\n",
    "attack(crib, ctx)"
   ]
  },
  {
   "cell_type": "code",
   "execution_count": null,
   "metadata": {
    "collapsed": true
   },
   "outputs": [],
   "source": [
    "ct1 = 0x315c4eeaa8b5f8aaf9174145bf43e1784b8fa00dc71d885a804e5ee9fa40b16349c146fb778cdf2d3aff021dfff5b403b510d0d0455468aeb98622b137dae857553ccd8883a7bc37520e06e515d22c954eba5025b8cc57ee59418ce7dc6bc41556bdb36bbca3e8774301fbcaa3b83b220809560987815f65286764703de0f3d524400a19b159610b11ef3e\n",
    "ct2 = 0x234c02ecbbfbafa3ed18510abd11fa724fcda2018a1a8342cf064bbde548b12b07df44ba7191d9606ef4081ffde5ad46a5069d9f7f543bedb9c861bf29c7e205132eda9382b0bc2c5c4b45f919cf3a9f1cb74151f6d551f4480c82b2cb24cc5b028aa76eb7b4ab24171ab3cdadb8356f\n",
    "ct3 = 0x32510ba9a7b2bba9b8005d43a304b5714cc0bb0c8a34884dd91304b8ad40b62b07df44ba6e9d8a2368e51d04e0e7b207b70b9b8261112bacb6c866a232dfe257527dc29398f5f3251a0d47e503c66e935de81230b59b7afb5f41afa8d661cb\n",
    "ct4 = 0x32510ba9aab2a8a4fd06414fb517b5605cc0aa0dc91a8908c2064ba8ad5ea06a029056f47a8ad3306ef5021eafe1ac01a81197847a5c68a1b78769a37bc8f4575432c198ccb4ef63590256e305cd3a9544ee4160ead45aef520489e7da7d835402bca670bda8eb775200b8dabbba246b130f040d8ec6447e2c767f3d30ed81ea2e4c1404e1315a1010e7229be6636aaa\n",
    "ct5 = 0x3f561ba9adb4b6ebec54424ba317b564418fac0dd35f8c08d31a1fe9e24fe56808c213f17c81d9607cee021dafe1e001b21ade877a5e68bea88d61b93ac5ee0d562e8e9582f5ef375f0a4ae20ed86e935de81230b59b73fb4302cd95d770c65b40aaa065f2a5e33a5a0bb5dcaba43722130f042f8ec85b7c2070\n",
    "ct6 = 0x32510bfbacfbb9befd54415da243e1695ecabd58c519cd4bd2061bbde24eb76a19d84aba34d8de287be84d07e7e9a30ee714979c7e1123a8bd9822a33ecaf512472e8e8f8db3f9635c1949e640c621854eba0d79eccf52ff111284b4cc61d11902aebc66f2b2e436434eacc0aba938220b084800c2ca4e693522643573b2c4ce35050b0cf774201f0fe52ac9f26d71b6cf61a711cc229f77ace7aa88a2f19983122b11be87a59c355d25f8e4\n",
    "ct7 = 0x32510bfbacfbb9befd54415da243e1695ecabd58c519cd4bd90f1fa6ea5ba47b01c909ba7696cf606ef40c04afe1ac0aa8148dd066592ded9f8774b529c7ea125d298e8883f5e9305f4b44f915cb2bd05af51373fd9b4af511039fa2d96f83414aaaf261bda2e97b170fb5cce2a53e675c154c0d9681596934777e2275b381ce2e40582afe67650b13e72287ff2270abcf73bb028932836fbdecfecee0a3b894473c1bbeb6b4913a536ce4f9b13f1efff71ea313c8661dd9a4ce\n",
    "ct8 = 0x315c4eeaa8b5f8bffd11155ea506b56041c6a00c8a08854dd21a4bbde54ce56801d943ba708b8a3574f40c00fff9e00fa1439fd0654327a3bfc860b92f89ee04132ecb9298f5fd2d5e4b45e40ecc3b9d59e9417df7c95bba410e9aa2ca24c5474da2f276baa3ac325918b2daada43d6712150441c2e04f6565517f317da9d3\n",
    "ct9 = 0x271946f9bbb2aeadec111841a81abc300ecaa01bd8069d5cc91005e9fe4aad6e04d513e96d99de2569bc5e50eeeca709b50a8a987f4264edb6896fb537d0a716132ddc938fb0f836480e06ed0fcd6e9759f40462f9cf57f4564186a2c1778f1543efa270bda5e933421cbe88a4a52222190f471e9bd15f652b653b7071aec59a2705081ffe72651d08f822c9ed6d76e48b63ab15d0208573a7eef027\n",
    "ct10 = 0x466d06ece998b7a2fb1d464fed2ced7641ddaa3cc31c9941cf110abbf409ed39598005b3399ccfafb61d0315fca0a314be138a9f32503bedac8067f03adbf3575c3b8edc9ba7f537530541ab0f9f3cd04ff50d66f1d559ba520e89a2cb2a83\n",
    "target = 0x32510ba9babebbbefd001547a810e67149caee11d945cd7fc81a05e9f85aac650e9052ba6a8cd8257bf14d13e6f0a803b54fde9e77472dbff89d71b57bddef121336cb85ccb8f3315f4b52e301d16e9f52f904"
   ]
  }
 ],
 "metadata": {
  "kernelspec": {
   "display_name": "Python 2",
   "language": "python",
   "name": "python2"
  },
  "language_info": {
   "codemirror_mode": {
    "name": "ipython",
    "version": 2
   },
   "file_extension": ".py",
   "mimetype": "text/x-python",
   "name": "python",
   "nbconvert_exporter": "python",
   "pygments_lexer": "ipython2",
   "version": "2.7.9"
  }
 },
 "nbformat": 4,
 "nbformat_minor": 0
}
